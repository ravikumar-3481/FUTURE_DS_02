{
 "cells": [
  {
   "cell_type": "markdown",
   "id": "b24da8bc-ccf0-490e-8450-153b867aa637",
   "metadata": {},
   "source": [
    "# About the Task\n",
    "In this task, you’ll work with simulated or exported CSV data from Instagram or Facebook Ads Manager. Your goal is to analyze campaign performance metrics and build an interactive dashboard that helps businesses answer questions like:\n",
    "\n",
    "- How well did the ad campaign perform?\n",
    "- Which posts or ads had the highest engagement?\n",
    "- What was the Click-Through Rate (CTR) and Return on Investment (ROI)?\n",
    "- What can we improve for the next campaign?"
   ]
  },
  {
   "cell_type": "code",
   "execution_count": 1,
   "id": "470b6783-39ad-40da-860e-9d294f3ed28d",
   "metadata": {},
   "outputs": [],
   "source": [
    "import pandas as pd"
   ]
  },
  {
   "cell_type": "code",
   "execution_count": 2,
   "id": "ce2d4196-1ac8-4a22-8e58-623701c0d198",
   "metadata": {},
   "outputs": [
    {
     "data": {
      "text/html": [
       "<div>\n",
       "<style scoped>\n",
       "    .dataframe tbody tr th:only-of-type {\n",
       "        vertical-align: middle;\n",
       "    }\n",
       "\n",
       "    .dataframe tbody tr th {\n",
       "        vertical-align: top;\n",
       "    }\n",
       "\n",
       "    .dataframe thead th {\n",
       "        text-align: right;\n",
       "    }\n",
       "</style>\n",
       "<table border=\"1\" class=\"dataframe\">\n",
       "  <thead>\n",
       "    <tr style=\"text-align: right;\">\n",
       "      <th></th>\n",
       "      <th>ad_id</th>\n",
       "      <th>reporting_start</th>\n",
       "      <th>reporting_end</th>\n",
       "      <th>campaign_id</th>\n",
       "      <th>fb_campaign_id</th>\n",
       "      <th>age</th>\n",
       "      <th>gender</th>\n",
       "      <th>interest1</th>\n",
       "      <th>interest2</th>\n",
       "      <th>interest3</th>\n",
       "      <th>impressions</th>\n",
       "      <th>clicks</th>\n",
       "      <th>spent</th>\n",
       "      <th>total_conversion</th>\n",
       "      <th>approved_conversion</th>\n",
       "    </tr>\n",
       "  </thead>\n",
       "  <tbody>\n",
       "    <tr>\n",
       "      <th>0</th>\n",
       "      <td>708746</td>\n",
       "      <td>17/08/2017</td>\n",
       "      <td>17/08/2017</td>\n",
       "      <td>916</td>\n",
       "      <td>103916</td>\n",
       "      <td>30-34</td>\n",
       "      <td>M</td>\n",
       "      <td>15</td>\n",
       "      <td>17</td>\n",
       "      <td>17</td>\n",
       "      <td>7350.0</td>\n",
       "      <td>1</td>\n",
       "      <td>1.43</td>\n",
       "      <td>2.0</td>\n",
       "      <td>1.0</td>\n",
       "    </tr>\n",
       "    <tr>\n",
       "      <th>1</th>\n",
       "      <td>708749</td>\n",
       "      <td>17/08/2017</td>\n",
       "      <td>17/08/2017</td>\n",
       "      <td>916</td>\n",
       "      <td>103917</td>\n",
       "      <td>30-34</td>\n",
       "      <td>M</td>\n",
       "      <td>16</td>\n",
       "      <td>19</td>\n",
       "      <td>21</td>\n",
       "      <td>17861.0</td>\n",
       "      <td>2</td>\n",
       "      <td>1.82</td>\n",
       "      <td>2.0</td>\n",
       "      <td>0.0</td>\n",
       "    </tr>\n",
       "    <tr>\n",
       "      <th>2</th>\n",
       "      <td>708771</td>\n",
       "      <td>17/08/2017</td>\n",
       "      <td>17/08/2017</td>\n",
       "      <td>916</td>\n",
       "      <td>103920</td>\n",
       "      <td>30-34</td>\n",
       "      <td>M</td>\n",
       "      <td>20</td>\n",
       "      <td>25</td>\n",
       "      <td>22</td>\n",
       "      <td>693.0</td>\n",
       "      <td>0</td>\n",
       "      <td>0.00</td>\n",
       "      <td>1.0</td>\n",
       "      <td>0.0</td>\n",
       "    </tr>\n",
       "    <tr>\n",
       "      <th>3</th>\n",
       "      <td>708815</td>\n",
       "      <td>30/08/2017</td>\n",
       "      <td>30/08/2017</td>\n",
       "      <td>916</td>\n",
       "      <td>103928</td>\n",
       "      <td>30-34</td>\n",
       "      <td>M</td>\n",
       "      <td>28</td>\n",
       "      <td>32</td>\n",
       "      <td>32</td>\n",
       "      <td>4259.0</td>\n",
       "      <td>1</td>\n",
       "      <td>1.25</td>\n",
       "      <td>1.0</td>\n",
       "      <td>0.0</td>\n",
       "    </tr>\n",
       "    <tr>\n",
       "      <th>4</th>\n",
       "      <td>708818</td>\n",
       "      <td>17/08/2017</td>\n",
       "      <td>17/08/2017</td>\n",
       "      <td>916</td>\n",
       "      <td>103928</td>\n",
       "      <td>30-34</td>\n",
       "      <td>M</td>\n",
       "      <td>28</td>\n",
       "      <td>33</td>\n",
       "      <td>32</td>\n",
       "      <td>4133.0</td>\n",
       "      <td>1</td>\n",
       "      <td>1.29</td>\n",
       "      <td>1.0</td>\n",
       "      <td>1.0</td>\n",
       "    </tr>\n",
       "  </tbody>\n",
       "</table>\n",
       "</div>"
      ],
      "text/plain": [
       "    ad_id reporting_start reporting_end campaign_id fb_campaign_id    age  \\\n",
       "0  708746      17/08/2017    17/08/2017         916         103916  30-34   \n",
       "1  708749      17/08/2017    17/08/2017         916         103917  30-34   \n",
       "2  708771      17/08/2017    17/08/2017         916         103920  30-34   \n",
       "3  708815      30/08/2017    30/08/2017         916         103928  30-34   \n",
       "4  708818      17/08/2017    17/08/2017         916         103928  30-34   \n",
       "\n",
       "  gender  interest1  interest2  interest3  impressions  clicks  spent  \\\n",
       "0      M         15         17         17       7350.0       1   1.43   \n",
       "1      M         16         19         21      17861.0       2   1.82   \n",
       "2      M         20         25         22        693.0       0   0.00   \n",
       "3      M         28         32         32       4259.0       1   1.25   \n",
       "4      M         28         33         32       4133.0       1   1.29   \n",
       "\n",
       "   total_conversion  approved_conversion  \n",
       "0               2.0                  1.0  \n",
       "1               2.0                  0.0  \n",
       "2               1.0                  0.0  \n",
       "3               1.0                  0.0  \n",
       "4               1.0                  1.0  "
      ]
     },
     "execution_count": 2,
     "metadata": {},
     "output_type": "execute_result"
    }
   ],
   "source": [
    "df = pd.read_csv(\"data.csv\")\n",
    "df.head()"
   ]
  },
  {
   "cell_type": "code",
   "execution_count": 3,
   "id": "453421e5-7af7-4bac-b22c-8be042f5a515",
   "metadata": {},
   "outputs": [
    {
     "data": {
      "text/plain": [
       "Index(['ad_id', 'reporting_start', 'reporting_end', 'campaign_id',\n",
       "       'fb_campaign_id', 'age', 'gender', 'interest1', 'interest2',\n",
       "       'interest3', 'impressions', 'clicks', 'spent', 'total_conversion',\n",
       "       'approved_conversion'],\n",
       "      dtype='object')"
      ]
     },
     "execution_count": 3,
     "metadata": {},
     "output_type": "execute_result"
    }
   ],
   "source": [
    "df.columns"
   ]
  },
  {
   "cell_type": "code",
   "execution_count": 28,
   "id": "cc998d50-321e-4cba-8ac1-044759ebfafa",
   "metadata": {},
   "outputs": [
    {
     "data": {
      "text/plain": [
       "spent\n",
       "0.00    354\n",
       "1.00    130\n",
       "2.00     43\n",
       "3.00     20\n",
       "4.00     18\n",
       "       ... \n",
       "7.54      1\n",
       "3.14      1\n",
       "6.78      1\n",
       "4.53      1\n",
       "1.52      1\n",
       "Name: count, Length: 509, dtype: int64"
      ]
     },
     "execution_count": 28,
     "metadata": {},
     "output_type": "execute_result"
    }
   ],
   "source": [
    "df['spent'].value_counts()"
   ]
  },
  {
   "cell_type": "code",
   "execution_count": 4,
   "id": "e2ef53d7-0de4-49eb-81d6-195de694c7e8",
   "metadata": {},
   "outputs": [
    {
     "data": {
      "text/plain": [
       "(1143, 15)"
      ]
     },
     "execution_count": 4,
     "metadata": {},
     "output_type": "execute_result"
    }
   ],
   "source": [
    "df.shape"
   ]
  },
  {
   "cell_type": "code",
   "execution_count": 5,
   "id": "6fe6a68d-dabe-467f-a25d-150e21a6332c",
   "metadata": {},
   "outputs": [
    {
     "data": {
      "text/plain": [
       "ad_id                    int64\n",
       "reporting_start         object\n",
       "reporting_end           object\n",
       "campaign_id             object\n",
       "fb_campaign_id          object\n",
       "age                     object\n",
       "gender                  object\n",
       "interest1                int64\n",
       "interest2                int64\n",
       "interest3                int64\n",
       "impressions            float64\n",
       "clicks                   int64\n",
       "spent                  float64\n",
       "total_conversion       float64\n",
       "approved_conversion    float64\n",
       "dtype: object"
      ]
     },
     "execution_count": 5,
     "metadata": {},
     "output_type": "execute_result"
    }
   ],
   "source": [
    "df.dtypes"
   ]
  },
  {
   "cell_type": "markdown",
   "id": "571950d9-f2f5-4bd8-bf34-36afcd82e026",
   "metadata": {},
   "source": [
    "# Meta data"
   ]
  },
  {
   "cell_type": "code",
   "execution_count": 6,
   "id": "4e24ad16-c728-404d-a54d-a52f74858324",
   "metadata": {},
   "outputs": [
    {
     "name": "stdout",
     "output_type": "stream",
     "text": [
      "<class 'pandas.core.frame.DataFrame'>\n",
      "RangeIndex: 1143 entries, 0 to 1142\n",
      "Data columns (total 15 columns):\n",
      " #   Column               Non-Null Count  Dtype  \n",
      "---  ------               --------------  -----  \n",
      " 0   ad_id                1143 non-null   int64  \n",
      " 1   reporting_start      1143 non-null   object \n",
      " 2   reporting_end        1143 non-null   object \n",
      " 3   campaign_id          1143 non-null   object \n",
      " 4   fb_campaign_id       1143 non-null   object \n",
      " 5   age                  1143 non-null   object \n",
      " 6   gender               1143 non-null   object \n",
      " 7   interest1            1143 non-null   int64  \n",
      " 8   interest2            1143 non-null   int64  \n",
      " 9   interest3            1143 non-null   int64  \n",
      " 10  impressions          1143 non-null   float64\n",
      " 11  clicks               1143 non-null   int64  \n",
      " 12  spent                1143 non-null   float64\n",
      " 13  total_conversion     761 non-null    float64\n",
      " 14  approved_conversion  761 non-null    float64\n",
      "dtypes: float64(4), int64(5), object(6)\n",
      "memory usage: 134.1+ KB\n"
     ]
    }
   ],
   "source": [
    "df.info()"
   ]
  },
  {
   "cell_type": "code",
   "execution_count": 7,
   "id": "7ace19ed-9610-4452-88e0-883599b23f4f",
   "metadata": {},
   "outputs": [
    {
     "data": {
      "text/plain": [
       "fb_campaign_id\n",
       "F         276\n",
       "M         106\n",
       "144611      6\n",
       "144562      6\n",
       "144536      6\n",
       "         ... \n",
       "115866      1\n",
       "115858      1\n",
       "115856      1\n",
       "115854      1\n",
       "103916      1\n",
       "Name: count, Length: 490, dtype: int64"
      ]
     },
     "execution_count": 7,
     "metadata": {},
     "output_type": "execute_result"
    }
   ],
   "source": [
    "df['fb_campaign_id'].value_counts()"
   ]
  },
  {
   "cell_type": "code",
   "execution_count": 8,
   "id": "1679cc2a-ad80-46ff-89e2-912e243eca74",
   "metadata": {},
   "outputs": [
    {
     "data": {
      "text/plain": [
       "campaign_id\n",
       "936      464\n",
       "1178     243\n",
       "45-49    144\n",
       "30-34     99\n",
       "40-44     71\n",
       "35-39     68\n",
       "916       54\n",
       "Name: count, dtype: int64"
      ]
     },
     "execution_count": 8,
     "metadata": {},
     "output_type": "execute_result"
    }
   ],
   "source": [
    "df['campaign_id'].value_counts()"
   ]
  },
  {
   "cell_type": "code",
   "execution_count": 9,
   "id": "3adddd89-6d4f-4eb0-a91b-e0291a9aabc1",
   "metadata": {},
   "outputs": [
    {
     "data": {
      "text/plain": [
       "total_conversion\n",
       "1.0     546\n",
       "2.0      89\n",
       "3.0      34\n",
       "4.0      26\n",
       "5.0      19\n",
       "7.0       9\n",
       "0.0       5\n",
       "6.0       5\n",
       "13.0      4\n",
       "22.0      4\n",
       "11.0      3\n",
       "8.0       3\n",
       "17.0      2\n",
       "10.0      2\n",
       "23.0      1\n",
       "31.0      1\n",
       "40.0      1\n",
       "9.0       1\n",
       "20.0      1\n",
       "26.0      1\n",
       "60.0      1\n",
       "24.0      1\n",
       "28.0      1\n",
       "15.0      1\n",
       "Name: count, dtype: int64"
      ]
     },
     "execution_count": 9,
     "metadata": {},
     "output_type": "execute_result"
    }
   ],
   "source": [
    "df['total_conversion'].value_counts()"
   ]
  },
  {
   "cell_type": "markdown",
   "id": "5b6ad092-604e-44e0-96f7-b07635c176a4",
   "metadata": {},
   "source": [
    "# Statistical Summary"
   ]
  },
  {
   "cell_type": "code",
   "execution_count": 10,
   "id": "5b1c98bf-91fb-4e27-983a-9ac52a5b4104",
   "metadata": {},
   "outputs": [
    {
     "data": {
      "text/html": [
       "<div>\n",
       "<style scoped>\n",
       "    .dataframe tbody tr th:only-of-type {\n",
       "        vertical-align: middle;\n",
       "    }\n",
       "\n",
       "    .dataframe tbody tr th {\n",
       "        vertical-align: top;\n",
       "    }\n",
       "\n",
       "    .dataframe thead th {\n",
       "        text-align: right;\n",
       "    }\n",
       "</style>\n",
       "<table border=\"1\" class=\"dataframe\">\n",
       "  <thead>\n",
       "    <tr style=\"text-align: right;\">\n",
       "      <th></th>\n",
       "      <th>ad_id</th>\n",
       "      <th>interest1</th>\n",
       "      <th>interest2</th>\n",
       "      <th>interest3</th>\n",
       "      <th>impressions</th>\n",
       "      <th>clicks</th>\n",
       "      <th>spent</th>\n",
       "      <th>total_conversion</th>\n",
       "      <th>approved_conversion</th>\n",
       "    </tr>\n",
       "  </thead>\n",
       "  <tbody>\n",
       "    <tr>\n",
       "      <th>count</th>\n",
       "      <td>1.143000e+03</td>\n",
       "      <td>1143.000000</td>\n",
       "      <td>1.143000e+03</td>\n",
       "      <td>1143.000000</td>\n",
       "      <td>1.143000e+03</td>\n",
       "      <td>1143.000000</td>\n",
       "      <td>1143.000000</td>\n",
       "      <td>761.000000</td>\n",
       "      <td>761.000000</td>\n",
       "    </tr>\n",
       "    <tr>\n",
       "      <th>mean</th>\n",
       "      <td>9.872611e+05</td>\n",
       "      <td>33.884514</td>\n",
       "      <td>1.180606e+05</td>\n",
       "      <td>42.474191</td>\n",
       "      <td>6.872500e+04</td>\n",
       "      <td>11.629921</td>\n",
       "      <td>17.597760</td>\n",
       "      <td>2.161629</td>\n",
       "      <td>0.768725</td>\n",
       "    </tr>\n",
       "    <tr>\n",
       "      <th>std</th>\n",
       "      <td>1.939928e+05</td>\n",
       "      <td>27.560263</td>\n",
       "      <td>2.670506e+05</td>\n",
       "      <td>48.987248</td>\n",
       "      <td>2.067023e+05</td>\n",
       "      <td>27.347899</td>\n",
       "      <td>48.418711</td>\n",
       "      <td>4.062201</td>\n",
       "      <td>1.656445</td>\n",
       "    </tr>\n",
       "    <tr>\n",
       "      <th>min</th>\n",
       "      <td>7.087460e+05</td>\n",
       "      <td>2.000000</td>\n",
       "      <td>3.000000e+00</td>\n",
       "      <td>0.000000</td>\n",
       "      <td>0.000000e+00</td>\n",
       "      <td>0.000000</td>\n",
       "      <td>0.000000</td>\n",
       "      <td>0.000000</td>\n",
       "      <td>0.000000</td>\n",
       "    </tr>\n",
       "    <tr>\n",
       "      <th>25%</th>\n",
       "      <td>7.776325e+05</td>\n",
       "      <td>16.000000</td>\n",
       "      <td>2.200000e+01</td>\n",
       "      <td>19.000000</td>\n",
       "      <td>1.442650e+02</td>\n",
       "      <td>1.000000</td>\n",
       "      <td>0.000000</td>\n",
       "      <td>1.000000</td>\n",
       "      <td>0.000000</td>\n",
       "    </tr>\n",
       "    <tr>\n",
       "      <th>50%</th>\n",
       "      <td>1.121185e+06</td>\n",
       "      <td>26.000000</td>\n",
       "      <td>3.300000e+01</td>\n",
       "      <td>27.000000</td>\n",
       "      <td>3.142000e+03</td>\n",
       "      <td>2.000000</td>\n",
       "      <td>1.530000</td>\n",
       "      <td>1.000000</td>\n",
       "      <td>0.000000</td>\n",
       "    </tr>\n",
       "    <tr>\n",
       "      <th>75%</th>\n",
       "      <td>1.121804e+06</td>\n",
       "      <td>32.000000</td>\n",
       "      <td>9.889400e+04</td>\n",
       "      <td>38.000000</td>\n",
       "      <td>2.786400e+04</td>\n",
       "      <td>8.000000</td>\n",
       "      <td>8.540000</td>\n",
       "      <td>2.000000</td>\n",
       "      <td>1.000000</td>\n",
       "    </tr>\n",
       "    <tr>\n",
       "      <th>max</th>\n",
       "      <td>1.314415e+06</td>\n",
       "      <td>120.000000</td>\n",
       "      <td>2.286228e+06</td>\n",
       "      <td>421.000000</td>\n",
       "      <td>3.052003e+06</td>\n",
       "      <td>340.000000</td>\n",
       "      <td>639.949998</td>\n",
       "      <td>60.000000</td>\n",
       "      <td>21.000000</td>\n",
       "    </tr>\n",
       "  </tbody>\n",
       "</table>\n",
       "</div>"
      ],
      "text/plain": [
       "              ad_id    interest1     interest2    interest3   impressions  \\\n",
       "count  1.143000e+03  1143.000000  1.143000e+03  1143.000000  1.143000e+03   \n",
       "mean   9.872611e+05    33.884514  1.180606e+05    42.474191  6.872500e+04   \n",
       "std    1.939928e+05    27.560263  2.670506e+05    48.987248  2.067023e+05   \n",
       "min    7.087460e+05     2.000000  3.000000e+00     0.000000  0.000000e+00   \n",
       "25%    7.776325e+05    16.000000  2.200000e+01    19.000000  1.442650e+02   \n",
       "50%    1.121185e+06    26.000000  3.300000e+01    27.000000  3.142000e+03   \n",
       "75%    1.121804e+06    32.000000  9.889400e+04    38.000000  2.786400e+04   \n",
       "max    1.314415e+06   120.000000  2.286228e+06   421.000000  3.052003e+06   \n",
       "\n",
       "            clicks        spent  total_conversion  approved_conversion  \n",
       "count  1143.000000  1143.000000        761.000000           761.000000  \n",
       "mean     11.629921    17.597760          2.161629             0.768725  \n",
       "std      27.347899    48.418711          4.062201             1.656445  \n",
       "min       0.000000     0.000000          0.000000             0.000000  \n",
       "25%       1.000000     0.000000          1.000000             0.000000  \n",
       "50%       2.000000     1.530000          1.000000             0.000000  \n",
       "75%       8.000000     8.540000          2.000000             1.000000  \n",
       "max     340.000000   639.949998         60.000000            21.000000  "
      ]
     },
     "execution_count": 10,
     "metadata": {},
     "output_type": "execute_result"
    }
   ],
   "source": [
    "df.describe()"
   ]
  },
  {
   "cell_type": "markdown",
   "id": "145f3f2b-d717-47d3-b815-fefb595aae02",
   "metadata": {},
   "source": [
    "# Missing Values"
   ]
  },
  {
   "cell_type": "code",
   "execution_count": 11,
   "id": "640c0415-2da0-452e-9134-7875cdb2853a",
   "metadata": {},
   "outputs": [
    {
     "data": {
      "text/plain": [
       "ad_id                    0\n",
       "reporting_start          0\n",
       "reporting_end            0\n",
       "campaign_id              0\n",
       "fb_campaign_id           0\n",
       "age                      0\n",
       "gender                   0\n",
       "interest1                0\n",
       "interest2                0\n",
       "interest3                0\n",
       "impressions              0\n",
       "clicks                   0\n",
       "spent                    0\n",
       "total_conversion       382\n",
       "approved_conversion    382\n",
       "dtype: int64"
      ]
     },
     "execution_count": 11,
     "metadata": {},
     "output_type": "execute_result"
    }
   ],
   "source": [
    "df.isna().sum()"
   ]
  },
  {
   "cell_type": "code",
   "execution_count": 12,
   "id": "1acce189-959d-415a-99f5-34978f2efd14",
   "metadata": {},
   "outputs": [
    {
     "data": {
      "text/plain": [
       "0       False\n",
       "1       False\n",
       "2       False\n",
       "3       False\n",
       "4       False\n",
       "        ...  \n",
       "1138     True\n",
       "1139     True\n",
       "1140     True\n",
       "1141     True\n",
       "1142     True\n",
       "Name: total_conversion, Length: 1143, dtype: bool"
      ]
     },
     "execution_count": 12,
     "metadata": {},
     "output_type": "execute_result"
    }
   ],
   "source": [
    "df['total_conversion'].isna()"
   ]
  },
  {
   "cell_type": "markdown",
   "id": "87221725-df80-43d0-8297-3e9857112ce2",
   "metadata": {},
   "source": [
    "# Filling missing Values with 0"
   ]
  },
  {
   "cell_type": "code",
   "execution_count": 13,
   "id": "7f90c81e-e310-48ff-bb7a-6802a81fbc93",
   "metadata": {},
   "outputs": [],
   "source": [
    "df[['total_conversion','approved_conversion']]= df[['total_conversion','approved_conversion']].fillna(0)"
   ]
  },
  {
   "cell_type": "code",
   "execution_count": 14,
   "id": "9783cf88-2871-41bc-b356-7e55e03535e2",
   "metadata": {},
   "outputs": [
    {
     "data": {
      "text/plain": [
       "ad_id                  0\n",
       "reporting_start        0\n",
       "reporting_end          0\n",
       "campaign_id            0\n",
       "fb_campaign_id         0\n",
       "age                    0\n",
       "gender                 0\n",
       "interest1              0\n",
       "interest2              0\n",
       "interest3              0\n",
       "impressions            0\n",
       "clicks                 0\n",
       "spent                  0\n",
       "total_conversion       0\n",
       "approved_conversion    0\n",
       "dtype: int64"
      ]
     },
     "execution_count": 14,
     "metadata": {},
     "output_type": "execute_result"
    }
   ],
   "source": [
    "df.isna().sum()"
   ]
  },
  {
   "cell_type": "markdown",
   "id": "68a9f48d-fc6e-41e6-b9ff-f26bb75f90f6",
   "metadata": {},
   "source": [
    "# Duplicates"
   ]
  },
  {
   "cell_type": "code",
   "execution_count": 15,
   "id": "00559423-b4be-4200-a82e-709cdc52910a",
   "metadata": {},
   "outputs": [
    {
     "data": {
      "text/plain": [
       "False    1143\n",
       "Name: count, dtype: int64"
      ]
     },
     "execution_count": 15,
     "metadata": {},
     "output_type": "execute_result"
    }
   ],
   "source": [
    "df.duplicated().value_counts()"
   ]
  },
  {
   "cell_type": "code",
   "execution_count": 16,
   "id": "46851edc-30cb-4657-96c2-2ec2b6cd655a",
   "metadata": {},
   "outputs": [
    {
     "data": {
      "text/plain": [
       "0"
      ]
     },
     "execution_count": 16,
     "metadata": {},
     "output_type": "execute_result"
    }
   ],
   "source": [
    "df.duplicated().sum()"
   ]
  },
  {
   "cell_type": "code",
   "execution_count": 17,
   "id": "7b2e8d58-1115-4860-918e-d6eca1c9d89e",
   "metadata": {},
   "outputs": [
    {
     "name": "stdout",
     "output_type": "stream",
     "text": [
      "<class 'pandas.core.frame.DataFrame'>\n",
      "RangeIndex: 1143 entries, 0 to 1142\n",
      "Data columns (total 15 columns):\n",
      " #   Column               Non-Null Count  Dtype  \n",
      "---  ------               --------------  -----  \n",
      " 0   ad_id                1143 non-null   int64  \n",
      " 1   reporting_start      1143 non-null   object \n",
      " 2   reporting_end        1143 non-null   object \n",
      " 3   campaign_id          1143 non-null   object \n",
      " 4   fb_campaign_id       1143 non-null   object \n",
      " 5   age                  1143 non-null   object \n",
      " 6   gender               1143 non-null   object \n",
      " 7   interest1            1143 non-null   int64  \n",
      " 8   interest2            1143 non-null   int64  \n",
      " 9   interest3            1143 non-null   int64  \n",
      " 10  impressions          1143 non-null   float64\n",
      " 11  clicks               1143 non-null   int64  \n",
      " 12  spent                1143 non-null   float64\n",
      " 13  total_conversion     1143 non-null   float64\n",
      " 14  approved_conversion  1143 non-null   float64\n",
      "dtypes: float64(4), int64(5), object(6)\n",
      "memory usage: 134.1+ KB\n"
     ]
    }
   ],
   "source": [
    "df.info()"
   ]
  },
  {
   "cell_type": "markdown",
   "id": "b2a3b9cf-6d6a-4b8d-872f-08646b96ee45",
   "metadata": {},
   "source": [
    "# Objectives"
   ]
  },
  {
   "cell_type": "code",
   "execution_count": 18,
   "id": "f054626f-b7df-4622-81d2-e9c0dbb0078f",
   "metadata": {
    "scrolled": true
   },
   "outputs": [
    {
     "name": "stdout",
     "output_type": "stream",
     "text": [
      "ad_id                           int64\n",
      "reporting_start        datetime64[ns]\n",
      "reporting_end          datetime64[ns]\n",
      "campaign_id                    object\n",
      "fb_campaign_id                 object\n",
      "age                            object\n",
      "gender                         object\n",
      "interest1                       int64\n",
      "interest2                       int64\n",
      "interest3                       int64\n",
      "impressions                   float64\n",
      "clicks                          int64\n",
      "spent                         float64\n",
      "total_conversion                int32\n",
      "approved_conversion             int32\n",
      "dtype: object\n"
     ]
    }
   ],
   "source": [
    "# Convert reporting dates to datetime\n",
    "df['reporting_start'] = pd.to_datetime(df['reporting_start'], dayfirst=True)\n",
    "df['reporting_end'] = pd.to_datetime(df['reporting_end'], dayfirst=True)\n",
    "\n",
    "\n",
    "# Convert conversions to integer (since conversions are counts, not decimals)\n",
    "df['total_conversion'] = df['total_conversion'].fillna(0).astype(int)\n",
    "df['approved_conversion'] = df['approved_conversion'].fillna(0).astype(int)\n",
    "\n",
    "# Confirm changes\n",
    "print(df.dtypes)"
   ]
  },
  {
   "cell_type": "markdown",
   "id": "d1fcf1b4-430e-4e0b-8778-eca54287e2db",
   "metadata": {},
   "source": [
    "# 1. How well did the ad campaign perform?"
   ]
  },
  {
   "cell_type": "code",
   "execution_count": 25,
   "id": "c784033a-a0b5-44d2-a088-4a0e3fa5dd92",
   "metadata": {},
   "outputs": [],
   "source": [
    "overall = {\n",
    "    \"Total Impressions\": df[\"impressions\"].sum(),\n",
    "    \"Total Clicks\": df[\"clicks\"].sum(),\n",
    "    \"Total Spend\": df[\"spent\"].sum(),\n",
    "    \"Total Conversions\": df[\"total_conversion\"].sum(),\n",
    "    \"Total Approved Conversions\": df[\"approved_conversion\"].sum(),\n",
    "    \"CTR (%)\": (df[\"clicks\"].sum() / df[\"impressions\"].sum()) * 100,\n",
    "    \"CPC ($)\": df[\"spent\"].sum() / df[\"clicks\"].replace(0,1).sum(),\n",
    "    \"CPA ($)\": df[\"spent\"].sum() / df[\"approved_conversion\"].replace(0,1).sum()\n",
    "}\n"
   ]
  },
  {
   "cell_type": "code",
   "execution_count": 26,
   "id": "677ea796-328e-40c2-8e3c-9e768d1c340d",
   "metadata": {},
   "outputs": [
    {
     "data": {
      "text/plain": [
       "{'Total Impressions': 78552672.98996094,\n",
       " 'Total Clicks': 13293,\n",
       " 'Total Spend': 20114.239997279998,\n",
       " 'Total Conversions': 1645,\n",
       " 'Total Approved Conversions': 585,\n",
       " 'CTR (%)': 0.016922403139227167,\n",
       " 'CPC ($)': 1.490054077878361,\n",
       " 'CPA ($)': 14.628538179839998}"
      ]
     },
     "execution_count": 26,
     "metadata": {},
     "output_type": "execute_result"
    }
   ],
   "source": [
    "overall"
   ]
  },
  {
   "cell_type": "markdown",
   "id": "bf5115cb-db92-4c47-80ba-46d7057d9d69",
   "metadata": {},
   "source": [
    "# 2. Which posts or ads had the highest engagement?"
   ]
  },
  {
   "cell_type": "code",
   "execution_count": 24,
   "id": "80ba494a-1a6a-4005-943c-aee11e765928",
   "metadata": {},
   "outputs": [
    {
     "data": {
      "text/html": [
       "<div>\n",
       "<style scoped>\n",
       "    .dataframe tbody tr th:only-of-type {\n",
       "        vertical-align: middle;\n",
       "    }\n",
       "\n",
       "    .dataframe tbody tr th {\n",
       "        vertical-align: top;\n",
       "    }\n",
       "\n",
       "    .dataframe thead th {\n",
       "        text-align: right;\n",
       "    }\n",
       "</style>\n",
       "<table border=\"1\" class=\"dataframe\">\n",
       "  <thead>\n",
       "    <tr style=\"text-align: right;\">\n",
       "      <th></th>\n",
       "      <th>impressions</th>\n",
       "      <th>clicks</th>\n",
       "      <th>spent</th>\n",
       "      <th>CTR</th>\n",
       "    </tr>\n",
       "    <tr>\n",
       "      <th>ad_id</th>\n",
       "      <th></th>\n",
       "      <th></th>\n",
       "      <th></th>\n",
       "      <th></th>\n",
       "    </tr>\n",
       "  </thead>\n",
       "  <tbody>\n",
       "    <tr>\n",
       "      <th>1314308</th>\n",
       "      <td>3.20</td>\n",
       "      <td>3</td>\n",
       "      <td>1.0</td>\n",
       "      <td>93.750002</td>\n",
       "    </tr>\n",
       "    <tr>\n",
       "      <th>1314298</th>\n",
       "      <td>2.69</td>\n",
       "      <td>2</td>\n",
       "      <td>1.0</td>\n",
       "      <td>74.349441</td>\n",
       "    </tr>\n",
       "    <tr>\n",
       "      <th>1314330</th>\n",
       "      <td>1.49</td>\n",
       "      <td>1</td>\n",
       "      <td>1.0</td>\n",
       "      <td>67.114094</td>\n",
       "    </tr>\n",
       "    <tr>\n",
       "      <th>1121953</th>\n",
       "      <td>1.64</td>\n",
       "      <td>1</td>\n",
       "      <td>0.0</td>\n",
       "      <td>60.975610</td>\n",
       "    </tr>\n",
       "    <tr>\n",
       "      <th>1121839</th>\n",
       "      <td>1.73</td>\n",
       "      <td>1</td>\n",
       "      <td>1.0</td>\n",
       "      <td>57.803468</td>\n",
       "    </tr>\n",
       "    <tr>\n",
       "      <th>1314297</th>\n",
       "      <td>7.53</td>\n",
       "      <td>4</td>\n",
       "      <td>4.0</td>\n",
       "      <td>53.120851</td>\n",
       "    </tr>\n",
       "    <tr>\n",
       "      <th>1121869</th>\n",
       "      <td>2.62</td>\n",
       "      <td>1</td>\n",
       "      <td>1.0</td>\n",
       "      <td>38.167939</td>\n",
       "    </tr>\n",
       "    <tr>\n",
       "      <th>1121897</th>\n",
       "      <td>2.63</td>\n",
       "      <td>1</td>\n",
       "      <td>1.0</td>\n",
       "      <td>38.022814</td>\n",
       "    </tr>\n",
       "    <tr>\n",
       "      <th>1121871</th>\n",
       "      <td>2.78</td>\n",
       "      <td>1</td>\n",
       "      <td>1.0</td>\n",
       "      <td>35.971223</td>\n",
       "    </tr>\n",
       "    <tr>\n",
       "      <th>1314364</th>\n",
       "      <td>11.19</td>\n",
       "      <td>4</td>\n",
       "      <td>0.0</td>\n",
       "      <td>35.746202</td>\n",
       "    </tr>\n",
       "  </tbody>\n",
       "</table>\n",
       "</div>"
      ],
      "text/plain": [
       "         impressions  clicks  spent        CTR\n",
       "ad_id                                         \n",
       "1314308         3.20       3    1.0  93.750002\n",
       "1314298         2.69       2    1.0  74.349441\n",
       "1314330         1.49       1    1.0  67.114094\n",
       "1121953         1.64       1    0.0  60.975610\n",
       "1121839         1.73       1    1.0  57.803468\n",
       "1314297         7.53       4    4.0  53.120851\n",
       "1121869         2.62       1    1.0  38.167939\n",
       "1121897         2.63       1    1.0  38.022814\n",
       "1121871         2.78       1    1.0  35.971223\n",
       "1314364        11.19       4    0.0  35.746202"
      ]
     },
     "execution_count": 24,
     "metadata": {},
     "output_type": "execute_result"
    }
   ],
   "source": [
    "top_ads = df.groupby(\"ad_id\").agg({\n",
    "    \"impressions\":\"sum\",\n",
    "    \"clicks\":\"sum\",\n",
    "    \"spent\":\"sum\"\n",
    "})\n",
    "top_ads[\"CTR\"] = (top_ads[\"clicks\"] / top_ads[\"impressions\"].replace(0, float(\"nan\"))) * 100\n",
    "\n",
    "\n",
    "top_ads = top_ads.sort_values(\"CTR\", ascending=False).head(10)\n",
    "top_ads"
   ]
  },
  {
   "cell_type": "markdown",
   "id": "87c5f9d9-491b-4cc3-a20f-7eb47f8d3cf7",
   "metadata": {},
   "source": [
    "# Objective 3\n",
    "## What was the Click-Through Rate (CTR) and Return on Investment (ROI)?\n",
    "\n",
    "CTR = already calculated.\n",
    "\n",
    "ROI = requires revenue assumption. Example:\n",
    "If each approved conversion = $5 revenue, then:\n",
    "\n"
   ]
  },
  {
   "cell_type": "code",
   "execution_count": 49,
   "id": "79ed0a9b-93ef-4458-b316-4b02372128dd",
   "metadata": {},
   "outputs": [
    {
     "data": {
      "text/plain": [
       "4.701942518573386"
      ]
     },
     "execution_count": 49,
     "metadata": {},
     "output_type": "execute_result"
    }
   ],
   "source": [
    "revenue_per_conversion = 36\n",
    "total_revenue = df[\"approved_conversion\"].sum() * revenue_per_conversion\n",
    "total_spend = df[\"spent\"].sum()\n",
    "\n",
    "ROI = ((total_revenue - total_spend) / total_spend) * 100\n",
    "ROI"
   ]
  },
  {
   "cell_type": "markdown",
   "id": "c60272d5-ad48-44f8-83a3-8b7fcc58c8d9",
   "metadata": {},
   "source": [
    "## Objective 4: What can we improve for the next campaign?\n",
    "\n",
    "From the metrics:\n",
    "\n",
    "- High CPC, low CTR ads : creatives or targeting need fixing.\n",
    "\n",
    "- Age/Gender segmentation : see if certain demographics convert better.\n",
    "\n",
    "- Interest targeting : which interest IDs yield highest conversions.\n",
    "\n",
    "- Budget allocation :  shift budget from low ROI campaigns to high ROI ones."
   ]
  },
  {
   "cell_type": "code",
   "execution_count": 53,
   "id": "b1d6e48f-dc0d-4eab-b157-609d4d0b2d96",
   "metadata": {},
   "outputs": [],
   "source": [
    "# Save as CSV\n",
    "df.to_csv(\"cleaned_data.csv\", index=False)"
   ]
  },
  {
   "cell_type": "code",
   "execution_count": null,
   "id": "81d1f8c9-d0dc-4e08-8666-af84212cec94",
   "metadata": {},
   "outputs": [],
   "source": []
  }
 ],
 "metadata": {
  "kernelspec": {
   "display_name": "Python 3",
   "language": "python",
   "name": "python3"
  },
  "language_info": {
   "codemirror_mode": {
    "name": "ipython",
    "version": 3
   },
   "file_extension": ".py",
   "mimetype": "text/x-python",
   "name": "python",
   "nbconvert_exporter": "python",
   "pygments_lexer": "ipython3",
   "version": "3.8.5"
  }
 },
 "nbformat": 4,
 "nbformat_minor": 5
}
